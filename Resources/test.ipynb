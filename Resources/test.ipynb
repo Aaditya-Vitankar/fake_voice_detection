{
 "cells": [
  {
   "cell_type": "code",
   "execution_count": 10,
   "metadata": {},
   "outputs": [
    {
     "data": {
      "text/plain": [
       "'Audio Seems Fake with  51.22% Probability'"
      ]
     },
     "execution_count": 10,
     "metadata": {},
     "output_type": "execute_result"
    }
   ],
   "source": [
    "import pandas as pd\n",
    "from torch_models import RNN_Prediction_Function as model\n",
    "from torch_models.RNN_Prediction_Function import *\n",
    "df = pd.read_csv(\"../DATA/csvs/trump-original_REAL.csv\")\n",
    "df = df.drop(columns=\"LABEL\")\n",
    "df\n",
    "\n",
    "\n",
    "\n",
    "w = \"../Weights/torch/RNN1/DeepFakeRNN.pt\"\n",
    "model.predict_label(weights=w , input_data=df)"
   ]
  },
  {
   "cell_type": "code",
   "execution_count": 14,
   "metadata": {},
   "outputs": [
    {
     "data": {
      "text/plain": [
       "'Audio Seems Real with  54.12% Probability'"
      ]
     },
     "execution_count": 14,
     "metadata": {},
     "output_type": "execute_result"
    }
   ],
   "source": [
    "import pandas as pd\n",
    "from torch_models import GRU_Prediction_Function as model\n",
    "from torch_models.GRU_Prediction_Function import *\n",
    "df = pd.read_csv(\"../DATA/csvs/trump-original_REAL.csv\")\n",
    "df = df.drop(columns=\"LABEL\")\n",
    "df\n",
    "\n",
    "\n",
    "\n",
    "w = \"../Weights/torch/GRU1/DeepfakeGRU.pt\"\n",
    "model.predict_label(weights=w , input_data=df)"
   ]
  },
  {
   "cell_type": "code",
   "execution_count": 12,
   "metadata": {},
   "outputs": [
    {
     "data": {
      "text/plain": [
       "'Audio Seems Real with  54.69% Probability'"
      ]
     },
     "execution_count": 12,
     "metadata": {},
     "output_type": "execute_result"
    }
   ],
   "source": [
    "import pandas as pd\n",
    "from torch_models import LSTM_Prediction_Function as model\n",
    "from torch_models.LSTM_Prediction_Function import *\n",
    "df = pd.read_csv(\"../DATA/csvs/trump-original_REAL.csv\")\n",
    "df = df.drop(columns=\"LABEL\")\n",
    "df\n",
    "\n",
    "\n",
    "\n",
    "w = \"../Weights/torch/LSTM/DeepFakeLSTM.pt\"\n",
    "model.predict_label(weights=w , input_data=df)"
   ]
  },
  {
   "cell_type": "code",
   "execution_count": 27,
   "metadata": {},
   "outputs": [],
   "source": [
    "def torch_predict_GRU(data = pd.DataFrame , weight = 1):\n",
    "    \"\"\"PyTorch Prediction Funtion with GRU Model\n",
    "        data   : Pandas DataFrame : 26 Columns\n",
    "        Weight : Pretrained Weight Selection : takes integer pass in between 1 and 3 \"\"\"\n",
    "    \n",
    "    if weight not in [1,2,3]:\n",
    "        return \"Invalid weight\"\n",
    "    else:\n",
    "        weight = weight-1\n",
    "\n",
    "        wt =[\"../Weights/torch/GRU1/DeepfakeGRU.pt\",\n",
    "            \"../Weights/torch/GRU2/DeepfakeGRU.pt\",\n",
    "            \"../Weights/torch/GRU3/DeepfakeGRU.pt\"]\n",
    "        return model.predict_label(weights=wt[weight] , input_data=data)\n",
    "\n",
    "# ---------------------------------------------------------------------------------------------\n",
    "# =============================================================================================\n",
    "# ---------------------------------------------------------------------------------------------    \n",
    "\n",
    "def torch_predict_RNN(data = pd.DataFrame, weight = 1):\n",
    "    \"\"\"PyTorch Prediction Funtion with RNN Model\n",
    "        data   : Pandas DataFrame : 26 Columns\n",
    "        Weight : Pretrained Weight Selection : takes integer input as 1 or 2 \"\"\"\n",
    "    \n",
    "    if weight not in [1 ,2]:\n",
    "        return \"Invalid weight\"\n",
    "    else:\n",
    "        weight = weight-1\n",
    "        wt = [\"../Weights/torch/RNN1/DeepFakeRNN.pt\",\n",
    "        \"../Weights/torch/RNN2/DeepFakeRNN.pt\"]\n",
    "        return model.predict_label(weights=wt[weight] , input_data=data)\n",
    "\n",
    "# ---------------------------------------------------------------------------------------------\n",
    "# =============================================================================================\n",
    "# --------------------------------------------------------------------------------------------- \n",
    "\n",
    "def torch_predict_LSTM(data = pd.DataFrame):\n",
    "    \"\"\"PyTorch Prediction Funtion with RNN Model\n",
    "        data   : Pandas DataFrame : 26 Columns\"\"\"\n",
    "    \n",
    "    wt = [\"../Weights/torch/LSTM/DeepFakeLSTM.pt\"]\n",
    "    return model.predict_label(weights=wt[0] , input_data=data)\n",
    "    \n",
    "# ---------------------------------------------------------------------------------------------\n",
    "# =============================================================================================\n",
    "# ---------------------------------------------------------------------------------------------"
   ]
  },
  {
   "cell_type": "code",
   "execution_count": 58,
   "metadata": {},
   "outputs": [
    {
     "name": "stdout",
     "output_type": "stream",
     "text": [
      "Audio Seems Real with  54.12% Probability\n",
      "Audio Seems Real with  59.08% Probability\n",
      "Audio Seems Real with  53.78% Probability\n"
     ]
    }
   ],
   "source": [
    "print(torch_predict_GRU(data=df,weight=1))\n",
    "print(torch_predict_GRU(data=df,weight=2))\n",
    "print(torch_predict_GRU(data=df,weight=3))"
   ]
  },
  {
   "cell_type": "code",
   "execution_count": 59,
   "metadata": {},
   "outputs": [
    {
     "name": "stdout",
     "output_type": "stream",
     "text": [
      "Audio Seems Fake with  51.22% Probability\n",
      "Invalid weight\n",
      "Invalid weight\n"
     ]
    }
   ],
   "source": [
    "print(torch_predict_RNN(data=df,weight=1))\n",
    "print(torch_predict_RNN(data=df,weight=2))\n",
    "print(torch_predict_RNN(data=df,weight=3))"
   ]
  },
  {
   "cell_type": "code",
   "execution_count": 60,
   "metadata": {},
   "outputs": [
    {
     "name": "stdout",
     "output_type": "stream",
     "text": [
      "Audio Seems Real with  54.69% Probability\n",
      "Invalid weight\n",
      "Invalid weight\n"
     ]
    }
   ],
   "source": [
    "print(torch_predict_LSTM(data=df,weight=1))\n",
    "print(torch_predict_LSTM(data=df,weight=2))\n",
    "print(torch_predict_LSTM(data=df,weight=3))"
   ]
  },
  {
   "cell_type": "code",
   "execution_count": null,
   "metadata": {},
   "outputs": [],
   "source": []
  },
  {
   "cell_type": "code",
   "execution_count": null,
   "metadata": {},
   "outputs": [],
   "source": []
  }
 ],
 "metadata": {
  "kernelspec": {
   "display_name": "Python 3",
   "language": "python",
   "name": "python3"
  },
  "language_info": {
   "codemirror_mode": {
    "name": "ipython",
    "version": 3
   },
   "file_extension": ".py",
   "mimetype": "text/x-python",
   "name": "python",
   "nbconvert_exporter": "python",
   "pygments_lexer": "ipython3",
   "version": "3.8.10"
  }
 },
 "nbformat": 4,
 "nbformat_minor": 2
}
