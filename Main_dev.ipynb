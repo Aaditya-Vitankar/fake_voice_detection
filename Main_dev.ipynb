{
 "cells": [
  {
   "cell_type": "code",
   "execution_count": 4,
   "metadata": {},
   "outputs": [],
   "source": [
    "from Resources.lib import *\n",
    "from Resources import lib as lib"
   ]
  },
  {
   "cell_type": "code",
   "execution_count": 7,
   "metadata": {},
   "outputs": [],
   "source": [
    "###----------------\n",
    "### Some parameters\n",
    "###----------------\n",
    "\n",
    "inpDir = './upload'\n",
    "outDir = '../DATA'\n",
    "subDir = 'csvs'\n",
    "audDir = \"AUDIO\"\n",
    "\n",
    "RANDOM_STATE = 24               # REMEMBER: to remove at the time of promotion to production\n",
    "np.random.seed(RANDOM_STATE)    # Set Random Seed for reproducible  results\n",
    "\n",
    "EPOCHS = 11                     # number of epochs\n",
    "ALPHA = 0.001                   # learning rate\n",
    "NUM_SAMPLES = 1280              # How many samples we want to generate \n",
    "NOISE = 0.2                     # Noise to be introduced in the data\n",
    "TEST_SIZE = 0.2\n",
    "BATCH_SIZE = 26\n",
    "PATIENCE = 20\n",
    "\n",
    "# parameters for Matplotlib\n",
    "params = {'legend.fontsize': 'x-large',\n",
    "          'figure.figsize': (15, 8),\n",
    "          'axes.labelsize': 'x-large',\n",
    "          'axes.titlesize':'x-large',\n",
    "          'xtick.labelsize':'x-large',\n",
    "          'ytick.labelsize':'x-large'\n",
    "         }\n",
    "\n",
    "CMAP = 'coolwarm' # plt.cm.Spectral\n",
    "\n",
    "plt.rcParams.update(params)"
   ]
  },
  {
   "cell_type": "code",
   "execution_count": 16,
   "metadata": {},
   "outputs": [],
   "source": [
    "def main(file):\n",
    "    data = create_DataFrame(file , segment_length=1)\n",
    "    reshaped_data = reshape_data(data)\n",
    "    return Dummy_predict(reshaped_data)\n"
   ]
  },
  {
   "cell_type": "code",
   "execution_count": 18,
   "metadata": {},
   "outputs": [
    {
     "data": {
      "text/plain": [
       "'REAL'"
      ]
     },
     "execution_count": 18,
     "metadata": {},
     "output_type": "execute_result"
    }
   ],
   "source": [
    "file = \"./upload/biden-to-ryan.wav\"\n",
    "main(file)"
   ]
  },
  {
   "cell_type": "code",
   "execution_count": null,
   "metadata": {},
   "outputs": [],
   "source": []
  }
 ],
 "metadata": {
  "kernelspec": {
   "display_name": "DNN",
   "language": "python",
   "name": "python3"
  },
  "language_info": {
   "codemirror_mode": {
    "name": "ipython",
    "version": 3
   },
   "file_extension": ".py",
   "mimetype": "text/x-python",
   "name": "python",
   "nbconvert_exporter": "python",
   "pygments_lexer": "ipython3",
   "version": "3.11.5"
  }
 },
 "nbformat": 4,
 "nbformat_minor": 2
}
