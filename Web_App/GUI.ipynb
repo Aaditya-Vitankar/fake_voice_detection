{
 "cells": [
  {
   "cell_type": "code",
   "execution_count": 1,
   "metadata": {},
   "outputs": [
    {
     "name": "stdout",
     "output_type": "stream",
     "text": [
      " * Serving Flask app '__main__'\n",
      " * Debug mode: on\n"
     ]
    },
    {
     "name": "stderr",
     "output_type": "stream",
     "text": [
      "WARNING: This is a development server. Do not use it in a production deployment. Use a production WSGI server instead.\n",
      " * Running on http://127.0.0.1:5000\n",
      "Press CTRL+C to quit\n",
      " * Restarting with watchdog (inotify)\n",
      "0.00s - Debugger warning: It seems that frozen modules are being used, which may\n",
      "0.00s - make the debugger miss breakpoints. Please pass -Xfrozen_modules=off\n",
      "0.00s - to python to disable frozen modules.\n",
      "0.00s - Note: Debugging will proceed. Set PYDEVD_DISABLE_FILE_VALIDATION=1 to disable this validation.\n",
      "Traceback (most recent call last):\n",
      "  File \"<frozen runpy>\", line 198, in _run_module_as_main\n",
      "  File \"<frozen runpy>\", line 88, in _run_code\n",
      "  File \"/home/sanjiv/anaconda3/envs/project/lib/python3.11/site-packages/ipykernel_launcher.py\", line 17, in <module>\n",
      "    app.launch_new_instance()\n",
      "  File \"/home/sanjiv/anaconda3/envs/project/lib/python3.11/site-packages/traitlets/config/application.py\", line 991, in launch_instance\n",
      "    app.initialize(argv)\n",
      "  File \"/home/sanjiv/anaconda3/envs/project/lib/python3.11/site-packages/traitlets/config/application.py\", line 113, in inner\n",
      "    return method(app, *args, **kwargs)\n",
      "           ^^^^^^^^^^^^^^^^^^^^^^^^^^^^\n",
      "  File \"/home/sanjiv/anaconda3/envs/project/lib/python3.11/site-packages/ipykernel/kernelapp.py\", line 689, in initialize\n",
      "    self.init_sockets()\n",
      "  File \"/home/sanjiv/anaconda3/envs/project/lib/python3.11/site-packages/ipykernel/kernelapp.py\", line 328, in init_sockets\n",
      "    self.shell_port = self._bind_socket(self.shell_socket, self.shell_port)\n",
      "                      ^^^^^^^^^^^^^^^^^^^^^^^^^^^^^^^^^^^^^^^^^^^^^^^^^^^^^\n",
      "  File \"/home/sanjiv/anaconda3/envs/project/lib/python3.11/site-packages/ipykernel/kernelapp.py\", line 252, in _bind_socket\n",
      "    return self._try_bind_socket(s, port)\n",
      "           ^^^^^^^^^^^^^^^^^^^^^^^^^^^^^^\n",
      "  File \"/home/sanjiv/anaconda3/envs/project/lib/python3.11/site-packages/ipykernel/kernelapp.py\", line 228, in _try_bind_socket\n",
      "    s.bind(\"tcp://%s:%i\" % (self.ip, port))\n",
      "  File \"/home/sanjiv/anaconda3/envs/project/lib/python3.11/site-packages/zmq/sugar/socket.py\", line 229, in bind\n",
      "    super().bind(addr)\n",
      "  File \"zmq/backend/cython/socket.pyx\", line 562, in zmq.backend.cython.socket.Socket.bind\n",
      "  File \"zmq/backend/cython/checkrc.pxd\", line 28, in zmq.backend.cython.checkrc._check_rc\n",
      "zmq.error.ZMQError: Address already in use\n"
     ]
    },
    {
     "ename": "SystemExit",
     "evalue": "1",
     "output_type": "error",
     "traceback": [
      "An exception has occurred, use %tb to see the full traceback.\n",
      "\u001b[0;31mSystemExit\u001b[0m\u001b[0;31m:\u001b[0m 1\n"
     ]
    },
    {
     "name": "stderr",
     "output_type": "stream",
     "text": [
      "/home/sanjiv/anaconda3/envs/project/lib/python3.11/site-packages/IPython/core/interactiveshell.py:3534: UserWarning: To exit: use 'exit', 'quit', or Ctrl-D.\n",
      "  warn(\"To exit: use 'exit', 'quit', or Ctrl-D.\", stacklevel=1)\n"
     ]
    }
   ],
   "source": [
    "from flask import Flask, render_template, request\n",
    "from flask_restful import Resource, Api\n",
    "import os\n",
    "\n",
    "app = Flask(__name__)\n",
    "api = Api(app)\n",
    "\n",
    "class Upload(Resource):\n",
    "    def post(self):\n",
    "        uploaded_file = request.files['file']\n",
    "        if uploaded_file:\n",
    "            # Save file locally\n",
    "            filename = f\"uploads/{uploaded_file.filename}\"\n",
    "            uploaded_file.save(filename)\n",
    "\n",
    "            # Replace this with your actual AI processing\n",
    "            result = f\"Processed result for file: {filename}\"\n",
    "\n",
    "            # Return result\n",
    "            return {\"result\": result}, 200\n",
    "        else:\n",
    "            return {\"error\": \"No file uploaded\"}, 400\n",
    "\n",
    "api.add_resource(Upload, \"/upload\")\n",
    "\n",
    "@app.route(\"/\", methods=[\"GET\", \"POST\"])\n",
    "def index():\n",
    "    if request.method == \"POST\":\n",
    "        # Send file to upload API\n",
    "        response = request.post(\"http://localhost:5000/upload\", files={\"file\": request.files[\"file\"]})\n",
    "        data = response.json()\n",
    "        if \"error\" in data:\n",
    "            error = data[\"error\"]\n",
    "        else:\n",
    "            result = data[\"result\"]\n",
    "    else:\n",
    "        result = None\n",
    "        error = None\n",
    "\n",
    "    return render_template(\"index.html\", result=result, error=error)\n",
    "\n",
    "if __name__ == \"__main__\":\n",
    "    # Create uploads directory if it doesn't exist\n",
    "    if not os.path.exists(\"uploads\"):\n",
    "        os.makedirs(\"uploads\")\n",
    "\n",
    "    app.run(debug=True)\n"
   ]
  },
  {
   "cell_type": "code",
   "execution_count": null,
   "metadata": {},
   "outputs": [
    {
     "name": "stdout",
     "output_type": "stream",
     "text": [
      "Requirement already satisfied: flask in /home/sanjiv/anaconda3/envs/project/lib/python3.11/site-packages (2.3.3)\n",
      "Collecting flask\n",
      "  Obtaining dependency information for flask from https://files.pythonhosted.org/packages/36/42/015c23096649b908c809c69388a805a571a3bea44362fe87e33fc3afa01f/flask-3.0.0-py3-none-any.whl.metadata\n",
      "  Using cached flask-3.0.0-py3-none-any.whl.metadata (3.6 kB)\n",
      "Requirement already satisfied: Werkzeug>=3.0.0 in /home/sanjiv/anaconda3/envs/project/lib/python3.11/site-packages (from flask) (3.0.1)\n",
      "Requirement already satisfied: Jinja2>=3.1.2 in /home/sanjiv/anaconda3/envs/project/lib/python3.11/site-packages (from flask) (3.1.2)\n",
      "Requirement already satisfied: itsdangerous>=2.1.2 in /home/sanjiv/anaconda3/envs/project/lib/python3.11/site-packages (from flask) (2.1.2)\n",
      "Requirement already satisfied: click>=8.1.3 in /home/sanjiv/anaconda3/envs/project/lib/python3.11/site-packages (from flask) (8.1.7)\n",
      "Requirement already satisfied: blinker>=1.6.2 in /home/sanjiv/anaconda3/envs/project/lib/python3.11/site-packages (from flask) (1.7.0)\n",
      "Requirement already satisfied: MarkupSafe>=2.0 in /home/sanjiv/anaconda3/envs/project/lib/python3.11/site-packages (from Jinja2>=3.1.2->flask) (2.1.1)\n",
      "Using cached flask-3.0.0-py3-none-any.whl (99 kB)\n",
      "Installing collected packages: flask\n",
      "  Attempting uninstall: flask\n",
      "    Found existing installation: Flask 2.3.3\n",
      "    Uninstalling Flask-2.3.3:\n",
      "      Successfully uninstalled Flask-2.3.3\n",
      "Successfully installed flask-3.0.0\n"
     ]
    }
   ],
   "source": [
    "fd = sock.get(zmq.FD)\n",
    "old_flags = fcntl.fcntl(fd, fcntl.F_GETFD)\n",
    "fcntl.fcntl(fd, fcntl.F_SETFD, old_flags | fcntl.FD_CLOEXEC)"
   ]
  },
  {
   "cell_type": "code",
   "execution_count": null,
   "metadata": {},
   "outputs": [],
   "source": []
  }
 ],
 "metadata": {
  "kernelspec": {
   "display_name": "project",
   "language": "python",
   "name": "python3"
  },
  "language_info": {
   "codemirror_mode": {
    "name": "ipython",
    "version": 3
   },
   "file_extension": ".py",
   "mimetype": "text/x-python",
   "name": "python",
   "nbconvert_exporter": "python",
   "pygments_lexer": "ipython3",
   "version": "3.11.5"
  }
 },
 "nbformat": 4,
 "nbformat_minor": 2
}
